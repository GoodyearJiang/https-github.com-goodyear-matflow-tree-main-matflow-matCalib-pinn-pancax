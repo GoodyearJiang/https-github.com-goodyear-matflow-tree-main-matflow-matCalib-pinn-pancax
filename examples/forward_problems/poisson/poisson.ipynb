{
 "cells": [
  {
   "cell_type": "markdown",
   "metadata": {},
   "source": [
    "# Poisson Equation\n",
    "In this example we will show how to leverage pancax to solve the simplest equation of mathetmatical \n",
    "physics, the Poisson equation... which we can write as \n",
    "\n",
    "$$\\nabla^2 u + f = 0$$\n",
    "\n",
    "We can approach this problem in several different ways\n",
    "\n",
    "1. The strong form as written above\n",
    "2. The weak form $$-\\int_\\Omega\\nabla u\\cdot\\nabla v d\\Omega + \\int_\\Omega fv d\\Omega = 0$$\n",
    "3. Energy minimization $$\\min_u\\int_\\Omega \\left[-\\|\\nabla u\\|^2 + fu\\right]d\\Omega$$\n",
    "\n",
    "All of the above cases are possible with tools in pancax."
   ]
  },
  {
   "cell_type": "markdown",
   "metadata": {},
   "source": [
    "Firse we must load necessary things from pancax. This is most easily done with the following line."
   ]
  },
  {
   "cell_type": "code",
   "execution_count": 41,
   "metadata": {},
   "outputs": [],
   "source": [
    "from pancax import *"
   ]
  },
  {
   "cell_type": "markdown",
   "metadata": {},
   "source": [
    "Next we need a key for random numbers generated downstream in neural network initialization for example. This is usually done at the top of a script for repeatability reasons and can be done as follows."
   ]
  },
  {
   "cell_type": "code",
   "execution_count": 42,
   "metadata": {},
   "outputs": [],
   "source": [
    "##################\n",
    "# for reproducibility\n",
    "##################\n",
    "key = random.key(10)"
   ]
  },
  {
   "cell_type": "markdown",
   "metadata": {},
   "source": [
    "Now for some file management. We need some form of geometry to solve a PDE in. In pancax, we leverage computational meshes since these are the standard IO mechanism in computational mechanics. \n",
    "\n",
    "There is a helper method in pancax called ``find_mesh_file`` which will look in the current directory or sub-directories for appropriate extension names in files. If you prefer to not use this, a regular ole python ``str`` or a ``Path`` from ``pathlib`` will also work."
   ]
  },
  {
   "cell_type": "code",
   "execution_count": 43,
   "metadata": {},
   "outputs": [],
   "source": [
    "##################\n",
    "# file management\n",
    "##################\n",
    "# mesh_file = find_mesh_file('mesh_quad4.g')\n",
    "mesh_file = './mesh/mesh_quad4.g'\n",
    "logger = Logger('pinn.log', log_every=250)\n",
    "pp = PostProcessor(mesh_file, 'exodus')"
   ]
  },
  {
   "cell_type": "markdown",
   "metadata": {},
   "source": [
    "Next, we can set up a domain object which holds on to various geometric quantities. There are several different types of domains in pancax depending upon the solution approach. \n",
    "\n",
    "For collocation problems, we can set up a ``CollocationDomain`` as follows"
   ]
  },
  {
   "cell_type": "code",
   "execution_count": 44,
   "metadata": {},
   "outputs": [
    {
     "name": "stdout",
     "output_type": "stream",
     "text": [
      "Time in read_exodus_mesh: 0.01130949 seconds\n",
      "WARNING: Ignoring polynomial order flag for non tri mesh\n",
      "Time in Reading Mesh...: 0.01162285 seconds\n",
      "CollocationDomain(\n",
      "  mesh_file='./mesh/mesh_quad4.g',\n",
      "  mesh=Mesh(\n",
      "    coords=f32[576,2],\n",
      "    conns=i32[529,4],\n",
      "    simplexNodesOrdinals=i32[576],\n",
      "    parentElement=Quad4Element(\n",
      "      elementType='quad4',\n",
      "      degree=1,\n",
      "      coordinates=f32[4,2],\n",
      "      vertexNodes=i32[3],\n",
      "      faceNodes=i32[4,2],\n",
      "      interiorNodes=None\n",
      "    ),\n",
      "    parentElement1d=LineElement(\n",
      "      elementType='line',\n",
      "      degree=1,\n",
      "      coordinates=f32[2],\n",
      "      vertexNodes=i32[2],\n",
      "      faceNodes=None,\n",
      "      interiorNodes=i32[0]\n",
      "    ),\n",
      "    blocks={'block_1': i32[529]},\n",
      "    nodeSets={\n",
      "      'nset_1':\n",
      "      i32[24](numpy),\n",
      "      'nset_2':\n",
      "      i32[24](numpy),\n",
      "      'nset_3':\n",
      "      i32[24](numpy),\n",
      "      'nset_4':\n",
      "      i32[24](numpy)\n",
      "    },\n",
      "    sideSets={\n",
      "      'sset_1':\n",
      "      i32[23,2],\n",
      "      'sset_2':\n",
      "      i32[23,2],\n",
      "      'sset_3':\n",
      "      i32[23,2],\n",
      "      'sset_4':\n",
      "      i32[23,2]\n",
      "    }\n",
      "  ),\n",
      "  coords=f32[576,2],\n",
      "  times=f32[1]\n",
      ")\n"
     ]
    }
   ],
   "source": [
    "##################\n",
    "# domain setup\n",
    "##################\n",
    "times = jnp.linspace(0.0, 0.0, 1)\n",
    "domain = CollocationDomain(mesh_file, times)\n",
    "print(domain)"
   ]
  },
  {
   "cell_type": "markdown",
   "metadata": {},
   "source": [
    "If instead you would like to work with variation approaches (e.g. the weak form or energy minimization), you can setup a domain as follows"
   ]
  },
  {
   "cell_type": "code",
   "execution_count": 45,
   "metadata": {},
   "outputs": [
    {
     "name": "stdout",
     "output_type": "stream",
     "text": [
      "Time in read_exodus_mesh: 0.00947552 seconds\n",
      "WARNING: Ignoring polynomial order flag for non tri mesh\n",
      "Time in Reading Mesh...: 0.00999020 seconds\n",
      "Time in QuadratureRule.__init__: 0.00106756 seconds\n",
      "Time in NonAllocatedFunctionSpace.__init__: 0.03084259 seconds\n",
      "Time in QuadratureRule.__init__: 0.00060014 seconds\n",
      "Time in NonAllocatedFunctionSpace.__init__: 0.02132083 seconds\n",
      "VariationalDomain(\n",
      "  mesh_file='./mesh/mesh_quad4.g',\n",
      "  mesh=Mesh(\n",
      "    coords=f32[576,2],\n",
      "    conns=i32[529,4],\n",
      "    simplexNodesOrdinals=i32[576],\n",
      "    parentElement=Quad4Element(\n",
      "      elementType='quad4',\n",
      "      degree=1,\n",
      "      coordinates=f32[4,2],\n",
      "      vertexNodes=i32[3],\n",
      "      faceNodes=i32[4,2],\n",
      "      interiorNodes=None\n",
      "    ),\n",
      "    parentElement1d=LineElement(\n",
      "      elementType='line',\n",
      "      degree=1,\n",
      "      coordinates=f32[2],\n",
      "      vertexNodes=i32[2],\n",
      "      faceNodes=None,\n",
      "      interiorNodes=i32[0]\n",
      "    ),\n",
      "    blocks={'block_1': i32[529]},\n",
      "    nodeSets={\n",
      "      'nset_1':\n",
      "      i32[24](numpy),\n",
      "      'nset_2':\n",
      "      i32[24](numpy),\n",
      "      'nset_3':\n",
      "      i32[24](numpy),\n",
      "      'nset_4':\n",
      "      i32[24](numpy)\n",
      "    },\n",
      "    sideSets={\n",
      "      'sset_1':\n",
      "      i32[23,2],\n",
      "      'sset_2':\n",
      "      i32[23,2],\n",
      "      'sset_3':\n",
      "      i32[23,2],\n",
      "      'sset_4':\n",
      "      i32[23,2]\n",
      "    }\n",
      "  ),\n",
      "  coords=f32[576,2],\n",
      "  times=f32[1],\n",
      "  conns=i32[529,4],\n",
      "  dof_manager=None,\n",
      "  fspace=NonAllocatedFunctionSpace(\n",
      "    quadrature_rule=QuadratureRule(xigauss=f32[4,2], wgauss=f32[4]),\n",
      "    shape_functions=ShapeFunctions(values=f32[4,4], gradients=f32[4,4,2])\n",
      "  ),\n",
      "  fspace_centroid=NonAllocatedFunctionSpace(\n",
      "    quadrature_rule=QuadratureRule(xigauss=f32[1,2], wgauss=f32[1]),\n",
      "    shape_functions=ShapeFunctions(values=f32[1,4], gradients=f32[1,4,2])\n",
      "  )\n",
      ")\n"
     ]
    }
   ],
   "source": [
    "##################\n",
    "# domain setup\n",
    "##################\n",
    "times = jnp.linspace(0.0, 0.0, 1)\n",
    "domain = VariationalDomain(mesh_file, times)\n",
    "print(domain)"
   ]
  },
  {
   "cell_type": "markdown",
   "metadata": {},
   "source": [
    "As can be seen by the two different outputs above, the variational domain contains some more complexity in the form of function spaces, squadrature rules, connectivity, etc."
   ]
  },
  {
   "cell_type": "markdown",
   "metadata": {},
   "source": [
    "Now that we have a time and geometric domain set up, we need to specify some physics. Below is an example which is a carbon copy of the internally implemented Poisson equation in pancax. This is shown so an eager user can see how a physics class is implemented."
   ]
  },
  {
   "cell_type": "code",
   "execution_count": 46,
   "metadata": {},
   "outputs": [],
   "source": [
    "from pancax.physics_kernels.base import BaseEnergyFormPhysics, BaseStrongFormPhysics\n",
    "from typing import Callable\n",
    "import jax.numpy as jnp\n",
    "\n",
    "\n",
    "class MyPoisson(\n",
    "  BaseEnergyFormPhysics, \n",
    "  BaseStrongFormPhysics\n",
    "):\n",
    "  field_value_names: tuple[str, ...] = ('u')\n",
    "  f: Callable\n",
    "\n",
    "  def __init__(self, f: Callable) -> None:\n",
    "    super().__init__(('u'))\n",
    "    self.f = f\n",
    "\n",
    "  def energy(self, params, x, t, u, grad_u, *args):\n",
    "    f = self.f(x)\n",
    "    pi = 0.5 * jnp.dot(grad_u, grad_u.T) - f * u\n",
    "    return jnp.sum(pi)\n",
    "\n",
    "  def strong_form_neumann_bc(self, params, x, t, n, *args):\n",
    "    field, _ = params\n",
    "    grad_u = self.field_gradients(field, x, t, *args)\n",
    "    return -jnp.dot(grad_u, n)\n",
    "\n",
    "  def strong_form_residual(self, params, x, t, *args):\n",
    "    field, _ = params\n",
    "    delta_u = self.field_laplacians(field, x, t, *args)\n",
    "    f = self.f(x)\n",
    "    return -delta_u - f"
   ]
  },
  {
   "cell_type": "markdown",
   "metadata": {},
   "source": [
    "This is a very general implementation which allows for both strong form and variational implementations of the Poisson equation. Multiple inheritance is leveraged here to inherit methods from botht he ``BaseEnergyFormPhysics`` and ``BaseStrongFormPhysics`` for flexibility in loss funciton choices later.\n",
    "\n",
    "Alternatively, we could use the ``Poisson`` class already implemented in pancax as follows"
   ]
  },
  {
   "cell_type": "code",
   "execution_count": 47,
   "metadata": {},
   "outputs": [],
   "source": [
    "##################\n",
    "# physics setup\n",
    "##################\n",
    "physics = Poisson(lambda x: 2 * jnp.pi**2 * jnp.sin(2. * jnp.pi * x[0]) * jnp.sin(2. * jnp.pi * x[1]))\n"
   ]
  },
  {
   "cell_type": "markdown",
   "metadata": {},
   "source": [
    "Boundary conditions\n"
   ]
  },
  {
   "cell_type": "code",
   "execution_count": 48,
   "metadata": {},
   "outputs": [],
   "source": [
    "##################\n",
    "# bcs\n",
    "##################\n",
    "def bc_func(x, t, z):\n",
    "  x, y = x[0], x[1]\n",
    "  return x * (1. - x) * y * (1. - y) * z\n",
    "\n",
    "physics = physics.update_dirichlet_bc_func(bc_func)\n",
    "\n",
    "ics = [\n",
    "]\n",
    "essential_bcs = [\n",
    "  EssentialBC('nset_1', 0),\n",
    "  EssentialBC('nset_2', 0),\n",
    "  EssentialBC('nset_3', 0),\n",
    "  EssentialBC('nset_4', 0),\n",
    "]\n",
    "natural_bcs = [\n",
    "]"
   ]
  },
  {
   "cell_type": "markdown",
   "metadata": {},
   "source": [
    "Problem setup\n"
   ]
  },
  {
   "cell_type": "code",
   "execution_count": 49,
   "metadata": {},
   "outputs": [
    {
     "name": "stdout",
     "output_type": "stream",
     "text": [
      "Time in DofManager.__init__: 0.00866868 seconds\n",
      "ForwardProblem(\n",
      "  domain=VariationalDomain(\n",
      "    mesh_file='./mesh/mesh_quad4.g',\n",
      "    mesh=Mesh(\n",
      "      coords=f32[576,2],\n",
      "      conns=i32[529,4],\n",
      "      simplexNodesOrdinals=i32[576],\n",
      "      parentElement=Quad4Element(\n",
      "        elementType='quad4',\n",
      "        degree=1,\n",
      "        coordinates=f32[4,2],\n",
      "        vertexNodes=i32[3],\n",
      "        faceNodes=i32[4,2],\n",
      "        interiorNodes=None\n",
      "      ),\n",
      "      parentElement1d=LineElement(\n",
      "        elementType='line',\n",
      "        degree=1,\n",
      "        coordinates=f32[2],\n",
      "        vertexNodes=i32[2],\n",
      "        faceNodes=None,\n",
      "        interiorNodes=i32[0]\n",
      "      ),\n",
      "      blocks={'block_1': i32[529]},\n",
      "      nodeSets={\n",
      "        'nset_1':\n",
      "        i32[24](numpy),\n",
      "        'nset_2':\n",
      "        i32[24](numpy),\n",
      "        'nset_3':\n",
      "        i32[24](numpy),\n",
      "        'nset_4':\n",
      "        i32[24](numpy)\n",
      "      },\n",
      "      sideSets={\n",
      "        'sset_1':\n",
      "        i32[23,2],\n",
      "        'sset_2':\n",
      "        i32[23,2],\n",
      "        'sset_3':\n",
      "        i32[23,2],\n",
      "        'sset_4':\n",
      "        i32[23,2]\n",
      "      }\n",
      "    ),\n",
      "    coords=f32[576,2],\n",
      "    times=f32[1],\n",
      "    conns=i32[529,4],\n",
      "    dof_manager=<pancax.fem.dof_manager.DofManager object at 0x70eca6f69b10>,\n",
      "    fspace=NonAllocatedFunctionSpace(\n",
      "      quadrature_rule=QuadratureRule(xigauss=f32[4,2], wgauss=f32[4]),\n",
      "      shape_functions=ShapeFunctions(values=f32[4,4], gradients=f32[4,4,2])\n",
      "    ),\n",
      "    fspace_centroid=NonAllocatedFunctionSpace(\n",
      "      quadrature_rule=QuadratureRule(xigauss=f32[1,2], wgauss=f32[1]),\n",
      "      shape_functions=ShapeFunctions(values=f32[1,4], gradients=f32[1,4,2])\n",
      "    )\n",
      "  ),\n",
      "  physics=Poisson(\n",
      "    field_value_names='u',\n",
      "    var_name_to_method={\n",
      "      'field_values':\n",
      "      {\n",
      "        'method':\n",
      "        _JitWrapper(\n",
      "          fn='nodal_pp.<locals>.<lambda>',\n",
      "          filter_warning=False,\n",
      "          donate_first=False,\n",
      "          donate_rest=False\n",
      "        ),\n",
      "        'names':\n",
      "        'u'\n",
      "      }\n",
      "    },\n",
      "    dirichlet_bc_func=<function bc_func>,\n",
      "    x_mins=f32[2],\n",
      "    x_maxs=f32[2],\n",
      "    f=<function <lambda>>\n",
      "  ),\n",
      "  ics=[],\n",
      "  essential_bcs=[\n",
      "    EssentialBC(nodeSet='nset_1', component=0, function=<function <lambda>>),\n",
      "    EssentialBC(nodeSet='nset_2', component=0, function=<function <lambda>>),\n",
      "    EssentialBC(nodeSet='nset_3', component=0, function=<function <lambda>>),\n",
      "    EssentialBC(nodeSet='nset_4', component=0, function=<function <lambda>>)\n",
      "  ],\n",
      "  natural_bcs=[]\n",
      ")\n"
     ]
    }
   ],
   "source": [
    "##################\n",
    "# problem setup\n",
    "##################\n",
    "problem = ForwardProblem(domain, physics, ics, essential_bcs, natural_bcs)\n",
    "print(problem)"
   ]
  },
  {
   "cell_type": "markdown",
   "metadata": {},
   "source": [
    "ML setup\n",
    "\n",
    "TODO this needs to be cleaned up alot"
   ]
  },
  {
   "cell_type": "code",
   "execution_count": 50,
   "metadata": {},
   "outputs": [],
   "source": [
    "##################\n",
    "# ML setup\n",
    "##################\n",
    "n_dims = domain.coords.shape[1]\n",
    "field = MLP(n_dims + 1, physics.n_dofs, 50, 3, jax.nn.tanh, key)\n",
    "params = FieldPropertyPair(field, problem.physics)\n",
    "\n",
    "loss_function = StrongFormResidualLoss()\n",
    "opt = Adam(loss_function, learning_rate=1e-3, has_aux=True)\n",
    "opt_st = opt.init(params)\n"
   ]
  },
  {
   "cell_type": "markdown",
   "metadata": {},
   "source": [
    "Training\n"
   ]
  },
  {
   "cell_type": "code",
   "execution_count": 51,
   "metadata": {},
   "outputs": [
    {
     "name": "stdout",
     "output_type": "stream",
     "text": [
      "0\n",
      "(Array(89.44533, dtype=float32), {'residual': Array(89.44533, dtype=float32)})\n",
      "100\n",
      "(Array(15.81907, dtype=float32), {'residual': Array(15.81907, dtype=float32)})\n",
      "200\n",
      "(Array(1.6400435, dtype=float32), {'residual': Array(1.6400435, dtype=float32)})\n",
      "300\n",
      "(Array(0.6807925, dtype=float32), {'residual': Array(0.6807925, dtype=float32)})\n",
      "400\n",
      "(Array(0.44704914, dtype=float32), {'residual': Array(0.44704914, dtype=float32)})\n",
      "500\n",
      "(Array(0.34868824, dtype=float32), {'residual': Array(0.34868824, dtype=float32)})\n",
      "600\n",
      "(Array(0.28184032, dtype=float32), {'residual': Array(0.28184032, dtype=float32)})\n",
      "700\n",
      "(Array(0.22886859, dtype=float32), {'residual': Array(0.22886859, dtype=float32)})\n",
      "800\n",
      "(Array(0.186384, dtype=float32), {'residual': Array(0.186384, dtype=float32)})\n",
      "900\n",
      "(Array(0.15230344, dtype=float32), {'residual': Array(0.15230344, dtype=float32)})\n",
      "1000\n",
      "(Array(0.12577225, dtype=float32), {'residual': Array(0.12577225, dtype=float32)})\n",
      "1100\n",
      "(Array(0.10473828, dtype=float32), {'residual': Array(0.10473828, dtype=float32)})\n",
      "1200\n",
      "(Array(0.08703235, dtype=float32), {'residual': Array(0.08703235, dtype=float32)})\n",
      "1300\n",
      "(Array(0.07218366, dtype=float32), {'residual': Array(0.07218366, dtype=float32)})\n",
      "1400\n",
      "(Array(0.05955303, dtype=float32), {'residual': Array(0.05955303, dtype=float32)})\n",
      "1500\n",
      "(Array(0.04877561, dtype=float32), {'residual': Array(0.04877561, dtype=float32)})\n",
      "1600\n",
      "(Array(0.03949477, dtype=float32), {'residual': Array(0.03949477, dtype=float32)})\n",
      "1700\n",
      "(Array(0.03148056, dtype=float32), {'residual': Array(0.03148056, dtype=float32)})\n",
      "1800\n",
      "(Array(0.02472531, dtype=float32), {'residual': Array(0.02472531, dtype=float32)})\n",
      "1900\n",
      "(Array(0.01909452, dtype=float32), {'residual': Array(0.01909452, dtype=float32)})\n",
      "2000\n",
      "(Array(0.01447148, dtype=float32), {'residual': Array(0.01447148, dtype=float32)})\n",
      "2100\n",
      "(Array(0.01105505, dtype=float32), {'residual': Array(0.01105505, dtype=float32)})\n",
      "2200\n",
      "(Array(0.00868083, dtype=float32), {'residual': Array(0.00868083, dtype=float32)})\n",
      "2300\n",
      "(Array(0.00710469, dtype=float32), {'residual': Array(0.00710469, dtype=float32)})\n",
      "2400\n",
      "(Array(0.00569352, dtype=float32), {'residual': Array(0.00569352, dtype=float32)})\n",
      "2500\n",
      "(Array(0.00463813, dtype=float32), {'residual': Array(0.00463813, dtype=float32)})\n",
      "2600\n",
      "(Array(0.00386026, dtype=float32), {'residual': Array(0.00386026, dtype=float32)})\n",
      "2700\n",
      "(Array(0.00403546, dtype=float32), {'residual': Array(0.00403546, dtype=float32)})\n",
      "2800\n",
      "(Array(0.00274625, dtype=float32), {'residual': Array(0.00274625, dtype=float32)})\n",
      "2900\n",
      "(Array(0.00255654, dtype=float32), {'residual': Array(0.00255654, dtype=float32)})\n",
      "3000\n",
      "(Array(0.00208485, dtype=float32), {'residual': Array(0.00208485, dtype=float32)})\n",
      "3100\n",
      "(Array(0.00174726, dtype=float32), {'residual': Array(0.00174726, dtype=float32)})\n",
      "3200\n",
      "(Array(0.00164618, dtype=float32), {'residual': Array(0.00164618, dtype=float32)})\n",
      "3300\n",
      "(Array(0.00152522, dtype=float32), {'residual': Array(0.00152522, dtype=float32)})\n",
      "3400\n",
      "(Array(0.00124691, dtype=float32), {'residual': Array(0.00124691, dtype=float32)})\n",
      "3500\n",
      "(Array(0.00118397, dtype=float32), {'residual': Array(0.00118397, dtype=float32)})\n",
      "3600\n",
      "(Array(0.00118862, dtype=float32), {'residual': Array(0.00118862, dtype=float32)})\n",
      "3700\n",
      "(Array(0.00093605, dtype=float32), {'residual': Array(0.00093605, dtype=float32)})\n",
      "3800\n",
      "(Array(0.00135752, dtype=float32), {'residual': Array(0.00135752, dtype=float32)})\n",
      "3900\n",
      "(Array(0.00092805, dtype=float32), {'residual': Array(0.00092805, dtype=float32)})\n",
      "4000\n",
      "(Array(0.00064882, dtype=float32), {'residual': Array(0.00064882, dtype=float32)})\n",
      "4100\n",
      "(Array(0.00071547, dtype=float32), {'residual': Array(0.00071547, dtype=float32)})\n",
      "4200\n",
      "(Array(0.00138616, dtype=float32), {'residual': Array(0.00138616, dtype=float32)})\n",
      "4300\n",
      "(Array(0.0005286, dtype=float32), {'residual': Array(0.0005286, dtype=float32)})\n",
      "4400\n",
      "(Array(0.00091455, dtype=float32), {'residual': Array(0.00091455, dtype=float32)})\n",
      "4500\n",
      "(Array(0.00067315, dtype=float32), {'residual': Array(0.00067315, dtype=float32)})\n",
      "4600\n",
      "(Array(0.00063198, dtype=float32), {'residual': Array(0.00063198, dtype=float32)})\n",
      "4700\n",
      "(Array(0.00082578, dtype=float32), {'residual': Array(0.00082578, dtype=float32)})\n",
      "4800\n",
      "(Array(0.00038156, dtype=float32), {'residual': Array(0.00038156, dtype=float32)})\n",
      "4900\n",
      "(Array(0.00039519, dtype=float32), {'residual': Array(0.00039519, dtype=float32)})\n"
     ]
    }
   ],
   "source": [
    "for epoch in range(5000):\n",
    "  params, opt_st, loss = opt.step(params, problem, opt_st)\n",
    "\n",
    "  if epoch % 100 == 0:\n",
    "    print(epoch)\n",
    "    print(loss)\n"
   ]
  }
 ],
 "metadata": {
  "kernelspec": {
   "display_name": "venv",
   "language": "python",
   "name": "python3"
  },
  "language_info": {
   "codemirror_mode": {
    "name": "ipython",
    "version": 3
   },
   "file_extension": ".py",
   "mimetype": "text/x-python",
   "name": "python",
   "nbconvert_exporter": "python",
   "pygments_lexer": "ipython3",
   "version": "3.10.12"
  }
 },
 "nbformat": 4,
 "nbformat_minor": 2
}
